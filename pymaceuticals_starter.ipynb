{
 "cells": [
  {
   "cell_type": "markdown",
   "metadata": {},
   "source": [
    "# Matplotlib Homework      \n",
    "### SMU DS: MG"
   ]
  },
  {
   "cell_type": "markdown",
   "metadata": {},
   "source": [
    "## Observations and Insights"
   ]
  },
  {
   "cell_type": "markdown",
   "metadata": {},
   "source": [
    "##### 1.Sample selection in this study has no bias on mouse sex.\n",
    "##### 2.Capomulin and Ramicane inhibit SCC growth, however, Infubinol and Ceftamin do not show inbitory effects according to boxplot analysis of final tumor volume.\n",
    "##### 3.Intrstingly, mouse body weight and tumor volume have a positive correlation when in Capomulin-treated group, suggesting capomuli might be more effective or sensetive to lean population."
   ]
  },
  {
   "cell_type": "markdown",
   "metadata": {},
   "source": [
    "## Dependencies and starter code\n",
    "\n",
    "##### Setup dependencies, generate combine datasets (combined_df)."
   ]
  },
  {
   "cell_type": "code",
   "execution_count": null,
   "metadata": {},
   "outputs": [],
   "source": [
    "import matplotlib.pyplot as plt\n",
    "import pandas as pd\n",
    "import scipy.stats as st\n",
    "import numpy as np\n",
    "from scipy.stats import linregress\n",
    "\n",
    "mouse_metadata = \"data/Mouse_metadata.csv\"\n",
    "study_results = \"data/Study_results.csv\"\n",
    "\n",
    "mouse_metadata = pd.read_csv(mouse_metadata)\n",
    "study_results = pd.read_csv(study_results)\n",
    "combined_df=pd.merge(study_results,mouse_metadata, on=\"Mouse ID\", how=\"left\")"
   ]
  },
  {
   "cell_type": "markdown",
   "metadata": {},
   "source": [
    "## Summary statistics\n",
    "#### Generate summary statistics table (tumor_volume_stats):  mean, median, variance, standard deviation, and SEM of the tumor volume for each regimen by using .merge."
   ]
  },
  {
   "cell_type": "code",
   "execution_count": null,
   "metadata": {},
   "outputs": [],
   "source": [
    "describe_table=combined_df.groupby(\"Drug Regimen\")[\"Tumor Volume (mm3)\"].describe()\n",
    "a=combined_df.groupby(\"Drug Regimen\")[\"Tumor Volume (mm3)\"].median()\n",
    "b=combined_df.groupby(\"Drug Regimen\")[\"Tumor Volume (mm3)\"].var()\n",
    "c=combined_df.groupby(\"Drug Regimen\")[\"Tumor Volume (mm3)\"].sem()\n",
    "df_1=pd.merge(describe_table,a,on=\"Drug Regimen\")\n",
    "df_2=pd.merge(df_1,b,on=\"Drug Regimen\")\n",
    "df_3=pd.merge(df_2,c,on=\"Drug Regimen\")\n",
    "tumor_volume_stats=df_3.rename(columns={\"Tumor Volume (mm3)_x\":\"median\",\"Tumor Volume (mm3)_y\":\"variance\",\"Tumor Volume (mm3)\":\"sem\"})\n",
    "tumor_volume_stats"
   ]
  },
  {
   "cell_type": "markdown",
   "metadata": {},
   "source": [
    "## Bar plots\n",
    "#### Step1: count data points for each treatement \n",
    "#### Step2: generate Bar plot by pandas ( dataframe.plot(kind=\"bar\") )\n",
    "#### Step3: generate Bar plot by matplotlib( plt.bar() )"
   ]
  },
  {
   "cell_type": "code",
   "execution_count": null,
   "metadata": {},
   "outputs": [],
   "source": [
    "count_chart=tumor_volume_stats[\"count\"].plot(kind=\"bar\",color='green',width=0.8)\n",
    "count_chart.set_xlabel(\"Drug Regimen\")\n",
    "count_chart.set_ylabel(\"Number of Data Points\")\n",
    "plt.title(\"SCC Treatment\")\n",
    "plt.show()\n",
    "plt.tight_layout()"
   ]
  },
  {
   "cell_type": "code",
   "execution_count": null,
   "metadata": {},
   "outputs": [],
   "source": [
    "x_tick=tumor_volume_stats.index.values\n",
    "drug_regimen=x_axis=np.arange(len(x_tick))\n",
    "data_ponits=y_axis=tumor_volume_stats[\"count\"]\n",
    "plt.title(\"SCC Treatment\")\n",
    "plt.xlabel(\"Drug Regimen\")\n",
    "plt.ylabel(\"Number of Data Points\")\n",
    "plt.xlim(-0.75, len(x_tick)-.25)\n",
    "plt.ylim(0, max(data_ponits) + 5)\n",
    "plt.bar(drug_regimen, data_ponits, facecolor=\"green\", alpha=0.9, align=\"center\")\n",
    "plt.xticks(drug_regimen,x_tick,rotation=90)\n",
    "plt.show()"
   ]
  },
  {
   "cell_type": "markdown",
   "metadata": {},
   "source": [
    "## Pie plots\n",
    "#### Step1: groupby \"sex\" in mouse_metadata dataset, count the numbers of female and male mice \n",
    "#### Step2: generate Pie plot by pandas( dataframe.plot (kind=\"pie) ), remove labels, then add figure lengend\n",
    "#### Step3: generate Pie plot by matplotlib( plt.pie() )\n",
    "#### Step4: import seaborn to generate Pie plot "
   ]
  },
  {
   "cell_type": "code",
   "execution_count": null,
   "metadata": {
    "scrolled": true
   },
   "outputs": [],
   "source": [
    "sex_group_count=mouse_metadata.groupby(\"Sex\").count()\n",
    "pp=sex_group_count[\"Mouse ID\"]\n",
    "pp.plot(kind=\"pie\",autopct='%1.1f%%',title=\"Mouse Population\",labels=[\"\",\"\"], startangle=0, fontsize=12,figsize=(5, 5))\n",
    "plt.legend(loc=\"best\",labels=sex_group_count.index)\n",
    "# remove y axis label \"Mouse ID\"\n",
    "import pylab\n",
    "pylab.ylabel('')"
   ]
  },
  {
   "cell_type": "code",
   "execution_count": null,
   "metadata": {},
   "outputs": [],
   "source": [
    "sex_group_array=sex_group_count.index.values\n",
    "values=sex_group_count[\"Mouse ID\"]\n",
    "colors = [\"royalblue\", \"chocolate\"]\n",
    "explode = (0, 0.01)\n",
    "\n",
    "plt.title(\"Mouse Population\")\n",
    "plt.pie(values, explode=explode, colors=colors,autopct=\"%1.1f%%\",shadow=False, startangle=0)\n",
    "plt.legend(loc=\"best\",labels=sex_group_count.index)\n",
    "plt.axis(\"equal\")"
   ]
  },
  {
   "cell_type": "code",
   "execution_count": null,
   "metadata": {},
   "outputs": [],
   "source": [
    "import seaborn as sns\n",
    "sns.set()\n",
    "sex_group_size=mouse_metadata.groupby(\"Sex\").size()\n",
    "sbpp=sex_group_size.plot(kind='pie', title='Mouse Population', figsize=[5,5],labels=[\"\",\"\"],\n",
    "          autopct=lambda p:'{:.2f}%({:.0f})'.format(p,(p/100)*sex_group_size.sum()))\n",
    "plt.legend(loc=\"best\",labels=sex_group_count.index)\n",
    "sbpp.set_ylabel('')"
   ]
  },
  {
   "cell_type": "markdown",
   "metadata": {},
   "source": [
    "## Quartiles, outliers and boxplots\n",
    "#### Step1: inner merger \"study_results\" and \"mouse_metadata\" on \"Mouse ID\", search for the tumor volumn of last row for each #### mouse ID by groupby(\"Mouse ID\").tail(1)\n",
    "#### Step2: select the fnal tumor volumes of Capomulin group,sort values,plot, and calculate the IQR and quantitatively.\n",
    "#### Step3: select the fnal tumor volumes of Ramicane group,sort values,plot, and calculate the IQR and quantitatively.\n",
    "#### Step4: select the fnal tumor volumes of Infubinol group,sort values,plot, and calculate the IQR and quantitatively (show outlier).\n",
    "#### Step5: select the fnal tumor volumes of Ceftamin group,sort values,plot, and calculate the IQR and quantitatively \n",
    "\n",
    "#### Step6: extract only 4 drugs data from c(step1 generated dataframe) by using .isin()\n",
    "#### Step7: generate boxplot of the final tumor volume for all four treatment regimens (step6 data) and highlight the outlier by using Matplotlib\n",
    "#### Step8: generate boxplot of the final tumor volume for all four treatment regimens and highlight the outlier by using Pandas"
   ]
  },
  {
   "cell_type": "code",
   "execution_count": null,
   "metadata": {},
   "outputs": [],
   "source": [
    "a=pd.merge(study_results,mouse_metadata, on=\"Mouse ID\", how=\"inner\")\n",
    "b=a[[\"Mouse ID\",\"Timepoint\",\"Tumor Volume (mm3)\",\"Drug Regimen\"]]\n",
    "c=b.groupby(\"Mouse ID\").tail(1)\n",
    "c"
   ]
  },
  {
   "cell_type": "code",
   "execution_count": null,
   "metadata": {},
   "outputs": [],
   "source": [
    "Capomulin_group=c.loc[c[\"Drug Regimen\"]==\"Capomulin\",:]\n",
    "Capomulin_volume=Capomulin_group[\"Tumor Volume (mm3)\"]\n",
    "Capomulin_volume.sort_values()\n",
    "\n",
    "fig1, ax1 = plt.subplots()\n",
    "ax1.set_title('SCC: Capomulin Group')\n",
    "ax1.set_ylabel('Tumor Volume (mm3)')\n",
    "ax1.boxplot(Capomulin_volume)\n",
    "plt.xticks([1], ['Capomulin Treatment'])\n",
    "plt.ylim(0, max(Capomulin_volume) + 5)\n",
    "plt.show()\n",
    "\n",
    "quartiles = Capomulin_volume.quantile([.25,.5,.75])\n",
    "lowerq = quartiles[0.25]\n",
    "upperq = quartiles[0.75]\n",
    "iqr = upperq-lowerq\n",
    "\n",
    "print(f\"The lower quartile of tumor volume in Capomulin group is: {lowerq}\")\n",
    "print(f\"The upper quartile of tumor volume in Capomulin group is: {upperq}\")\n",
    "print(f\"The interquartile range of tumor volume in Capomulin group is: {iqr}\")\n",
    "print(f\"The the median of tumor volume in Capomulin group is: {quartiles[0.5]} \")\n",
    "\n",
    "lower_bound = lowerq - (1.5*iqr)\n",
    "upper_bound = upperq + (1.5*iqr)\n",
    "print(f\"Values below {lower_bound} could be outliers.\")\n",
    "print(f\"Values above {upper_bound} could be outliers.\")\n"
   ]
  },
  {
   "cell_type": "code",
   "execution_count": null,
   "metadata": {},
   "outputs": [],
   "source": [
    "Ramicane_group=c.loc[c[\"Drug Regimen\"]==\"Ramicane\",:]\n",
    "Ramicane_volume=Ramicane_group[\"Tumor Volume (mm3)\"]\n",
    "Ramicane_volume.sort_values()\n",
    "\n",
    "\n",
    "fig2, ax2 = plt.subplots()\n",
    "ax2.set_title('SCC: Ramican Group')\n",
    "ax2.set_ylabel('Tumor Volume (mm3)')\n",
    "ax2.boxplot(Ramicane_volume)\n",
    "plt.xticks([1], ['Ramicane Treatment'])\n",
    "plt.ylim(0, max(Ramicane_volume) + 5)\n",
    "plt.show()\n",
    "\n",
    "\n",
    "quartiles = Ramicane_volume.quantile([.25,.5,.75])\n",
    "lowerq = quartiles[0.25]\n",
    "upperq = quartiles[0.75]\n",
    "iqr = upperq-lowerq\n",
    "\n",
    "print(f\"The lower quartile of tumor volume in Ramicane group is: {lowerq}\")\n",
    "print(f\"The upper quartile of tumor volume in Ramicane group is: {upperq}\")\n",
    "print(f\"The interquartile range of tumor volume in Ramicane group is: {iqr}\")\n",
    "print(f\"The the median of tumor volume in Ramicane group is: {quartiles[0.5]} \")\n",
    "\n",
    "lower_bound = lowerq - (1.5*iqr)\n",
    "upper_bound = upperq + (1.5*iqr)\n",
    "print(f\"Values below {lower_bound} could be outliers.\")\n",
    "print(f\"Values above {upper_bound} could be outliers.\")"
   ]
  },
  {
   "cell_type": "code",
   "execution_count": null,
   "metadata": {},
   "outputs": [],
   "source": [
    "Infubinol_group=c.loc[c[\"Drug Regimen\"]==\"Infubinol\",:]\n",
    "Infubinol_volume=Infubinol_group[\"Tumor Volume (mm3)\"]\n",
    "Infubinol_volume.sort_values()\n",
    "\n",
    "fig3, ax3 = plt.subplots()\n",
    "ax3.set_title('SCC: Infubinol Group')\n",
    "ax3.set_ylabel('Tumor Volume (mm3)')\n",
    "ax3.boxplot(Infubinol_volume)\n",
    "plt.xticks([1], ['Infubinol Treatment'])\n",
    "plt.ylim(0, max(Infubinol_volume) + 5)\n",
    "plt.show()\n",
    "\n",
    "quartiles = Infubinol_volume.quantile([.25,.5,.75])\n",
    "lowerq = quartiles[0.25]\n",
    "upperq = quartiles[0.75]\n",
    "iqr = upperq-lowerq\n",
    "\n",
    "print(f\"The lower quartile of tumor volume in Infubinol group is: {lowerq}\")\n",
    "print(f\"The upper quartile of tumor volume in Infubinol group is: {upperq}\")\n",
    "print(f\"The interquartile range of tumor volume in Infubinol group is: {iqr}\")\n",
    "print(f\"The the median of tumor volume in Infubinol group is: {quartiles[0.5]} \")\n",
    "\n",
    "lower_bound = lowerq - (1.5*iqr)\n",
    "upper_bound = upperq + (1.5*iqr)\n",
    "print(f\"Values below {lower_bound} could be outliers.\")\n",
    "print(f\"Values above {upper_bound} could be outliers.\")\n"
   ]
  },
  {
   "cell_type": "code",
   "execution_count": null,
   "metadata": {},
   "outputs": [],
   "source": [
    "Ceftamin_group=c.loc[c[\"Drug Regimen\"]==\"Ceftamin\",:]\n",
    "Ceftamin_volume=Ceftamin_group[\"Tumor Volume (mm3)\"]\n",
    "Ceftamin_volume.sort_values()\n",
    "\n",
    "fig4, ax4 = plt.subplots()\n",
    "ax4.set_title('SCC: Ceftamin Group')\n",
    "ax4.set_ylabel('Tumor Volume (mm3)')\n",
    "ax4.boxplot(Ceftamin_volume)\n",
    "plt.xticks([1], ['Ceftamin Treatment'])\n",
    "plt.ylim(0, max(Ceftamin_volume) + 5)\n",
    "plt.show()\n",
    "\n",
    "quartiles = Ceftamin_volume.quantile([.25,.5,.75])\n",
    "lowerq = quartiles[0.25]\n",
    "upperq = quartiles[0.75]\n",
    "iqr = upperq-lowerq\n",
    "\n",
    "print(f\"The lower quartile of tumor volume in Ceftamin group is: {lowerq}\")\n",
    "print(f\"The upper quartile of tumor volume in Ceftamin group is: {upperq}\")\n",
    "print(f\"The interquartile range of tumor volume in Ceftamin group is: {iqr}\")\n",
    "print(f\"The the median of tumor volume in Ceftamin group is: {quartiles[0.5]} \")\n",
    "\n",
    "lower_bound = lowerq - (1.5*iqr)\n",
    "upper_bound = upperq + (1.5*iqr)\n",
    "print(f\"Values below {lower_bound} could be outliers.\")\n",
    "print(f\"Values above {upper_bound} could be outliers.\")"
   ]
  },
  {
   "cell_type": "code",
   "execution_count": null,
   "metadata": {},
   "outputs": [],
   "source": [
    "extract_4_df=c[c[\"Drug Regimen\"].isin([\"Capomulin\",\"Ramicane\",\"Infubinol\",\"Ceftamin\"])]\n",
    "extract_4_df"
   ]
  },
  {
   "cell_type": "code",
   "execution_count": null,
   "metadata": {},
   "outputs": [],
   "source": [
    "data=[Capomulin_volume,Ramicane_volume,Infubinol_volume,Ceftamin_volume]\n",
    "green_diamond=dict(markerfacecolor=\"g\",marker=\"D\")\n",
    "fig5, ax5 = plt.subplots()\n",
    "ax5.set_title('SCC Treatment')\n",
    "ax5.set_xlabel('')\n",
    "ax5.set_ylabel('Tumor Volume (mm3)')\n",
    "ax5.boxplot(data,flierprops=green_diamond)\n",
    "plt.ylim(0, 80)\n",
    "plt.xticks([1,2,3,4], ['Capomulin','Ramicane','Infubinol','Ceftamin'])\n",
    "plt.show()"
   ]
  },
  {
   "cell_type": "code",
   "execution_count": null,
   "metadata": {},
   "outputs": [],
   "source": [
    "extract_4_df.boxplot(by=[\"Drug Regimen\"],column=[\"Tumor Volume (mm3)\"],figsize=(6,6),grid=False,flierprops=green_diamond)\n",
    "\n",
    "plt.suptitle('')\n",
    "plt.ylim(0, 80)\n",
    "plt.ylabel(\" Tumor Volume (mm3)\")\n",
    "plt.show()\n"
   ]
  },
  {
   "cell_type": "markdown",
   "metadata": {},
   "source": [
    "## Line and scatter plots\n",
    "#### Step1: generate a line plot of time point versus tumor volume for a mouse treated with Capomulin\n",
    "#### Step2: generate a scatter plot of mouse weight versus average tumor volume for the Capomulin regimen\n",
    "#### Step3: calculate the correlation coefficient and linear regression model for mouse weight and average tumor volume for the Capomulin "
   ]
  },
  {
   "cell_type": "code",
   "execution_count": null,
   "metadata": {},
   "outputs": [],
   "source": [
    "b128_df=combined_df.loc[combined_df[\"Mouse ID\"]==\"b128\", :]\n",
    "b128_df.plot.line(x=\"Timepoint\",y=\"Tumor Volume (mm3)\",figsize=(6,5), grid=True)\n",
    "plt.title(\"Capomulin: Mouse b128\")\n",
    "plt.ylabel(\" Tumor Volume (mm3)\")\n",
    "plt.xlabel(\" Time Point (days)\")\n",
    "plt.show()"
   ]
  },
  {
   "cell_type": "code",
   "execution_count": null,
   "metadata": {},
   "outputs": [],
   "source": [
    "Capomulin_data=a.loc[a[\"Drug Regimen\"]==\"Capomulin\",:]\n",
    "Capomulin_avg_volume=Capomulin_data.groupby(\"Mouse ID\")[\"Tumor Volume (mm3)\"].mean()    \n",
    "body_weight=Capomulin_data.groupby(\"Mouse ID\")[\"Weight (g)\"].mean()   \n",
    "\n",
    "plt.title(\"Capomulin Treatment\")\n",
    "plt.xlabel(\"Mouse Body Weight\")\n",
    "plt.ylabel(\"Average Tumor Volume(mm3)\")\n",
    "\n",
    "plt.scatter(body_weight, Capomulin_avg_volume, marker=\"o\", color=\"blue\")\n",
    "plt.show()"
   ]
  },
  {
   "cell_type": "code",
   "execution_count": null,
   "metadata": {},
   "outputs": [],
   "source": [
    "correlation = st.pearsonr(Capomulin_avg_volume,body_weight)\n",
    "print(f\"The correlation between both factors is {round(correlation[0],2)}\")\n",
    "\n",
    "(slope, intercept, rvalue, pvalue, stderr) = linregress(body_weight,Capomulin_avg_volume)\n",
    "regress_values = body_weight* slope + intercept\n",
    "line_eq = \"y = \" + str(round(slope,2)) + \"x + \" + str(round(intercept,2))\n",
    "plt.scatter(body_weight,Capomulin_avg_volume)\n",
    "plt.plot(body_weight,regress_values,\"r-\")\n",
    "plt.annotate(line_eq,(6,10),fontsize=15,color=\"red\")\n",
    "plt.title(\"Capomulin Treatment\")\n",
    "plt.xlabel('Mouse Body Weight')\n",
    "plt.ylabel('Average Tumor Volumn (mm3)')\n",
    "plt.show()\n",
    "\n",
    "print(f\"The r-squared is: {rvalue}\")"
   ]
  }
 ],
 "metadata": {
  "anaconda-cloud": {},
  "kernelspec": {
   "display_name": "Python 3",
   "language": "python",
   "name": "python3"
  },
  "language_info": {
   "codemirror_mode": {
    "name": "ipython",
    "version": 3
   },
   "file_extension": ".py",
   "mimetype": "text/x-python",
   "name": "python",
   "nbconvert_exporter": "python",
   "pygments_lexer": "ipython3",
   "version": "3.7.4"
  }
 },
 "nbformat": 4,
 "nbformat_minor": 2
}
